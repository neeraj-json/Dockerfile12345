{
 "cells": [
  {
   "cell_type": "code",
   "execution_count": 1,
   "id": "02192628-3afd-469b-ae8a-34e95ca1e7d7",
   "metadata": {},
   "outputs": [
    {
     "name": "stdout",
     "output_type": "stream",
     "text": [
      "asta la vista\n"
     ]
    }
   ],
   "source": [
    "print(\"asta la vista\")"
   ]
  },
  {
   "cell_type": "code",
   "execution_count": null,
   "id": "eb86dea0-8fcc-4c60-8c38-5902339b7987",
   "metadata": {},
   "outputs": [],
   "source": []
  }
 ],
 "metadata": {
  "kernelspec": {
   "display_name": "Python 3 (ipykernel)",
   "language": "python",
   "name": "python3"
  },
  "language_info": {
   "codemirror_mode": {
    "name": "ipython",
    "version": 3
   },
   "file_extension": ".py",
   "mimetype": "text/x-python",
   "name": "python",
   "nbconvert_exporter": "python",
   "pygments_lexer": "ipython3",
   "version": "3.11.6"
  }
 },
 "nbformat": 4,
 "nbformat_minor": 5
}
